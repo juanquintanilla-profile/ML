{
 "cells": [
  {
   "cell_type": "markdown",
   "id": "60e81ccb",
   "metadata": {},
   "source": [
    "## L5-E2 Movie Recomendation System using word embedding techniques"
   ]
  },
  {
   "cell_type": "markdown",
   "id": "2135bef0",
   "metadata": {},
   "source": [
    "Install and import required denpendencies and frameworks"
   ]
  },
  {
   "cell_type": "code",
   "execution_count": 1,
   "id": "505d6d65",
   "metadata": {},
   "outputs": [
    {
     "name": "stdout",
     "output_type": "stream",
     "text": [
      "Requirement already satisfied: tf-keras in c:\\users\\juanq\\desktop\\repo\\.venv\\lib\\site-packages (2.20.1)\n",
      "Requirement already satisfied: tensorflow<2.21,>=2.20 in c:\\users\\juanq\\desktop\\repo\\.venv\\lib\\site-packages (from tf-keras) (2.20.0)\n",
      "Requirement already satisfied: absl-py>=1.0.0 in c:\\users\\juanq\\desktop\\repo\\.venv\\lib\\site-packages (from tensorflow<2.21,>=2.20->tf-keras) (2.3.1)\n",
      "Requirement already satisfied: astunparse>=1.6.0 in c:\\users\\juanq\\desktop\\repo\\.venv\\lib\\site-packages (from tensorflow<2.21,>=2.20->tf-keras) (1.6.3)\n",
      "Requirement already satisfied: flatbuffers>=24.3.25 in c:\\users\\juanq\\desktop\\repo\\.venv\\lib\\site-packages (from tensorflow<2.21,>=2.20->tf-keras) (25.9.23)\n",
      "Requirement already satisfied: gast!=0.5.0,!=0.5.1,!=0.5.2,>=0.2.1 in c:\\users\\juanq\\desktop\\repo\\.venv\\lib\\site-packages (from tensorflow<2.21,>=2.20->tf-keras) (0.6.0)\n",
      "Requirement already satisfied: google_pasta>=0.1.1 in c:\\users\\juanq\\desktop\\repo\\.venv\\lib\\site-packages (from tensorflow<2.21,>=2.20->tf-keras) (0.2.0)\n",
      "Requirement already satisfied: libclang>=13.0.0 in c:\\users\\juanq\\desktop\\repo\\.venv\\lib\\site-packages (from tensorflow<2.21,>=2.20->tf-keras) (18.1.1)\n",
      "Requirement already satisfied: opt_einsum>=2.3.2 in c:\\users\\juanq\\desktop\\repo\\.venv\\lib\\site-packages (from tensorflow<2.21,>=2.20->tf-keras) (3.4.0)\n",
      "Requirement already satisfied: packaging in c:\\users\\juanq\\desktop\\repo\\.venv\\lib\\site-packages (from tensorflow<2.21,>=2.20->tf-keras) (25.0)\n",
      "Requirement already satisfied: protobuf>=5.28.0 in c:\\users\\juanq\\desktop\\repo\\.venv\\lib\\site-packages (from tensorflow<2.21,>=2.20->tf-keras) (6.33.0)\n",
      "Requirement already satisfied: requests<3,>=2.21.0 in c:\\users\\juanq\\desktop\\repo\\.venv\\lib\\site-packages (from tensorflow<2.21,>=2.20->tf-keras) (2.32.5)\n",
      "Requirement already satisfied: setuptools in c:\\users\\juanq\\desktop\\repo\\.venv\\lib\\site-packages (from tensorflow<2.21,>=2.20->tf-keras) (80.9.0)\n",
      "Requirement already satisfied: six>=1.12.0 in c:\\users\\juanq\\desktop\\repo\\.venv\\lib\\site-packages (from tensorflow<2.21,>=2.20->tf-keras) (1.17.0)\n",
      "Requirement already satisfied: termcolor>=1.1.0 in c:\\users\\juanq\\desktop\\repo\\.venv\\lib\\site-packages (from tensorflow<2.21,>=2.20->tf-keras) (3.1.0)\n",
      "Requirement already satisfied: typing_extensions>=3.6.6 in c:\\users\\juanq\\desktop\\repo\\.venv\\lib\\site-packages (from tensorflow<2.21,>=2.20->tf-keras) (4.15.0)\n",
      "Requirement already satisfied: wrapt>=1.11.0 in c:\\users\\juanq\\desktop\\repo\\.venv\\lib\\site-packages (from tensorflow<2.21,>=2.20->tf-keras) (1.17.3)\n",
      "Requirement already satisfied: grpcio<2.0,>=1.24.3 in c:\\users\\juanq\\desktop\\repo\\.venv\\lib\\site-packages (from tensorflow<2.21,>=2.20->tf-keras) (1.75.1)\n",
      "Requirement already satisfied: tensorboard~=2.20.0 in c:\\users\\juanq\\desktop\\repo\\.venv\\lib\\site-packages (from tensorflow<2.21,>=2.20->tf-keras) (2.20.0)\n",
      "Collecting keras>=3.10.0 (from tensorflow<2.21,>=2.20->tf-keras)\n",
      "  Using cached keras-3.12.0-py3-none-any.whl.metadata (5.9 kB)\n",
      "Requirement already satisfied: numpy>=1.26.0 in c:\\users\\juanq\\desktop\\repo\\.venv\\lib\\site-packages (from tensorflow<2.21,>=2.20->tf-keras) (2.2.6)\n",
      "Requirement already satisfied: h5py>=3.11.0 in c:\\users\\juanq\\desktop\\repo\\.venv\\lib\\site-packages (from tensorflow<2.21,>=2.20->tf-keras) (3.15.1)\n",
      "Requirement already satisfied: ml_dtypes<1.0.0,>=0.5.1 in c:\\users\\juanq\\desktop\\repo\\.venv\\lib\\site-packages (from tensorflow<2.21,>=2.20->tf-keras) (0.5.3)\n",
      "Requirement already satisfied: charset_normalizer<4,>=2 in c:\\users\\juanq\\desktop\\repo\\.venv\\lib\\site-packages (from requests<3,>=2.21.0->tensorflow<2.21,>=2.20->tf-keras) (3.4.4)\n",
      "Requirement already satisfied: idna<4,>=2.5 in c:\\users\\juanq\\desktop\\repo\\.venv\\lib\\site-packages (from requests<3,>=2.21.0->tensorflow<2.21,>=2.20->tf-keras) (3.11)\n",
      "Requirement already satisfied: urllib3<3,>=1.21.1 in c:\\users\\juanq\\desktop\\repo\\.venv\\lib\\site-packages (from requests<3,>=2.21.0->tensorflow<2.21,>=2.20->tf-keras) (2.5.0)\n",
      "Requirement already satisfied: certifi>=2017.4.17 in c:\\users\\juanq\\desktop\\repo\\.venv\\lib\\site-packages (from requests<3,>=2.21.0->tensorflow<2.21,>=2.20->tf-keras) (2025.10.5)\n",
      "Requirement already satisfied: markdown>=2.6.8 in c:\\users\\juanq\\desktop\\repo\\.venv\\lib\\site-packages (from tensorboard~=2.20.0->tensorflow<2.21,>=2.20->tf-keras) (3.9)\n",
      "Requirement already satisfied: pillow in c:\\users\\juanq\\desktop\\repo\\.venv\\lib\\site-packages (from tensorboard~=2.20.0->tensorflow<2.21,>=2.20->tf-keras) (12.0.0)\n",
      "Requirement already satisfied: tensorboard-data-server<0.8.0,>=0.7.0 in c:\\users\\juanq\\desktop\\repo\\.venv\\lib\\site-packages (from tensorboard~=2.20.0->tensorflow<2.21,>=2.20->tf-keras) (0.7.2)\n",
      "Requirement already satisfied: werkzeug>=1.0.1 in c:\\users\\juanq\\desktop\\repo\\.venv\\lib\\site-packages (from tensorboard~=2.20.0->tensorflow<2.21,>=2.20->tf-keras) (3.1.3)\n",
      "Requirement already satisfied: wheel<1.0,>=0.23.0 in c:\\users\\juanq\\desktop\\repo\\.venv\\lib\\site-packages (from astunparse>=1.6.0->tensorflow<2.21,>=2.20->tf-keras) (0.45.1)\n",
      "Requirement already satisfied: rich in c:\\users\\juanq\\desktop\\repo\\.venv\\lib\\site-packages (from keras>=3.10.0->tensorflow<2.21,>=2.20->tf-keras) (14.2.0)\n",
      "Requirement already satisfied: namex in c:\\users\\juanq\\desktop\\repo\\.venv\\lib\\site-packages (from keras>=3.10.0->tensorflow<2.21,>=2.20->tf-keras) (0.1.0)\n",
      "Requirement already satisfied: optree in c:\\users\\juanq\\desktop\\repo\\.venv\\lib\\site-packages (from keras>=3.10.0->tensorflow<2.21,>=2.20->tf-keras) (0.17.0)\n",
      "Requirement already satisfied: MarkupSafe>=2.1.1 in c:\\users\\juanq\\desktop\\repo\\.venv\\lib\\site-packages (from werkzeug>=1.0.1->tensorboard~=2.20.0->tensorflow<2.21,>=2.20->tf-keras) (3.0.3)\n",
      "Requirement already satisfied: markdown-it-py>=2.2.0 in c:\\users\\juanq\\desktop\\repo\\.venv\\lib\\site-packages (from rich->keras>=3.10.0->tensorflow<2.21,>=2.20->tf-keras) (4.0.0)\n",
      "Requirement already satisfied: pygments<3.0.0,>=2.13.0 in c:\\users\\juanq\\desktop\\repo\\.venv\\lib\\site-packages (from rich->keras>=3.10.0->tensorflow<2.21,>=2.20->tf-keras) (2.19.2)\n",
      "Requirement already satisfied: mdurl~=0.1 in c:\\users\\juanq\\desktop\\repo\\.venv\\lib\\site-packages (from markdown-it-py>=2.2.0->rich->keras>=3.10.0->tensorflow<2.21,>=2.20->tf-keras) (0.1.2)\n",
      "Using cached keras-3.12.0-py3-none-any.whl (1.5 MB)\n",
      "Installing collected packages: keras\n",
      "Successfully installed keras-3.12.0\n"
     ]
    }
   ],
   "source": [
    "!pip install tf-keras"
   ]
  },
  {
   "cell_type": "code",
   "execution_count": 39,
   "id": "c0020186",
   "metadata": {},
   "outputs": [
    {
     "name": "stderr",
     "output_type": "stream",
     "text": [
      "[nltk_data] Downloading package punkt to\n",
      "[nltk_data]     C:\\Users\\juanq\\Desktop\\repo\\.venv\\nltk_data...\n",
      "[nltk_data]   Unzipping tokenizers\\punkt.zip.\n",
      "[nltk_data] Downloading package stopwords to\n",
      "[nltk_data]     C:\\Users\\juanq\\Desktop\\repo\\.venv\\nltk_data...\n",
      "[nltk_data]   Unzipping corpora\\stopwords.zip.\n",
      "[nltk_data] Downloading package wordnet to\n",
      "[nltk_data]     C:\\Users\\juanq\\Desktop\\repo\\.venv\\nltk_data...\n"
     ]
    }
   ],
   "source": [
    "import opendatasets as od\n",
    "import pandas as pd\n",
    "import numpy as np\n",
    "import matplotlib.pyplot as plt\n",
    "import seaborn as sns\n",
    "\n",
    "import spacy \n",
    "import nltk\n",
    "from nltk.corpus import stopwords\n",
    "from wordcloud import WordCloud\n",
    "\n",
    "import re\n",
    "import gensim.downloader\n",
    "from gensim.models import Word2Vec\n",
    "from gensim.parsing.preprocessing import preprocess_string\n",
    "\n",
    "from sklearn.feature_extraction.text import CountVectorizer, TfidfVectorizer\n",
    "\n",
    "from tensorflow.keras.models import Sequential, Model\n",
    "from tensorflow.keras.layers import Input, Dense, Dropout, Embedding, Flatten\n",
    "from tensorflow.keras.preprocessing.sequence import pad_sequences\n",
    "from tensorflow.keras.preprocessing.text import Tokenizer\n",
    "from tensorflow.keras.layers import LSTM\n",
    "from transformers import BertTokenizer, TFBertForSequenceClassification, pipeline, TFBertModel, AutoModelForSequenceClassification, TFAutoModelForSequenceClassification, AutoTokenizer, AutoConfig\n",
    "from sklearn.model_selection import train_test_split\n",
    "from scipy.special import softmax\n",
    "\n",
    "# Load the spaCy English model\n",
    "nlp = spacy.load(\"en_core_web_sm\")\n",
    "\n",
    "nltk.data.path.append(r'C:\\Users\\juanq\\Desktop\\repo\\.venv\\nltk_data')\n",
    "nltk.download('punkt', download_dir=r'C:\\Users\\juanq\\Desktop\\repo\\.venv\\nltk_data')\n",
    "nltk.download('stopwords', download_dir=r'C:\\Users\\juanq\\Desktop\\repo\\.venv\\nltk_data')\n",
    "nltk.download('wordnet', download_dir=r'C:\\Users\\juanq\\Desktop\\repo\\.venv\\nltk_data')\n",
    "\n",
    "import warnings\n",
    "warnings.filterwarnings(\"ignore\")\n",
    "warnings.simplefilter(action='ignore', category=FutureWarning)"
   ]
  },
  {
   "cell_type": "markdown",
   "id": "ec58be46",
   "metadata": {},
   "source": [
    "### 1. Load dataset"
   ]
  },
  {
   "cell_type": "code",
   "execution_count": 40,
   "id": "0d7ccd3c",
   "metadata": {},
   "outputs": [
    {
     "data": {
      "text/html": [
       "<div>\n",
       "<style scoped>\n",
       "    .dataframe tbody tr th:only-of-type {\n",
       "        vertical-align: middle;\n",
       "    }\n",
       "\n",
       "    .dataframe tbody tr th {\n",
       "        vertical-align: top;\n",
       "    }\n",
       "\n",
       "    .dataframe thead th {\n",
       "        text-align: right;\n",
       "    }\n",
       "</style>\n",
       "<table border=\"1\" class=\"dataframe\">\n",
       "  <thead>\n",
       "    <tr style=\"text-align: right;\">\n",
       "      <th></th>\n",
       "      <th>budget</th>\n",
       "      <th>genres</th>\n",
       "      <th>homepage</th>\n",
       "      <th>id</th>\n",
       "      <th>keywords</th>\n",
       "      <th>original_language</th>\n",
       "      <th>original_title</th>\n",
       "      <th>overview</th>\n",
       "      <th>popularity</th>\n",
       "      <th>production_companies</th>\n",
       "      <th>production_countries</th>\n",
       "      <th>release_date</th>\n",
       "      <th>revenue</th>\n",
       "      <th>runtime</th>\n",
       "      <th>spoken_languages</th>\n",
       "      <th>status</th>\n",
       "      <th>tagline</th>\n",
       "      <th>title</th>\n",
       "      <th>vote_average</th>\n",
       "      <th>vote_count</th>\n",
       "    </tr>\n",
       "  </thead>\n",
       "  <tbody>\n",
       "    <tr>\n",
       "      <th>4495</th>\n",
       "      <td>609000</td>\n",
       "      <td>[{\"id\": 35, \"name\": \"Comedy\"}, {\"id\": 10402, \"...</td>\n",
       "      <td>NaN</td>\n",
       "      <td>3080</td>\n",
       "      <td>[{\"id\": 110, \"name\": \"venice\"}, {\"id\": 1691, \"...</td>\n",
       "      <td>en</td>\n",
       "      <td>Top Hat</td>\n",
       "      <td>Showman Jerry Travers is working for producer ...</td>\n",
       "      <td>3.898498</td>\n",
       "      <td>[{\"name\": \"RKO Radio Pictures\", \"id\": 6}]</td>\n",
       "      <td>[{\"iso_3166_1\": \"US\", \"name\": \"United States o...</td>\n",
       "      <td>1935-09-06</td>\n",
       "      <td>3202000</td>\n",
       "      <td>101.0</td>\n",
       "      <td>[{\"iso_639_1\": \"en\", \"name\": \"English\"}, {\"iso...</td>\n",
       "      <td>Released</td>\n",
       "      <td>They're Dancing Cheek-To-Cheek Again!</td>\n",
       "      <td>Top Hat</td>\n",
       "      <td>7.4</td>\n",
       "      <td>59</td>\n",
       "    </tr>\n",
       "    <tr>\n",
       "      <th>1309</th>\n",
       "      <td>35000000</td>\n",
       "      <td>[{\"id\": 80, \"name\": \"Crime\"}, {\"id\": 35, \"name...</td>\n",
       "      <td>NaN</td>\n",
       "      <td>10833</td>\n",
       "      <td>[{\"id\": 206718, \"name\": \"cons and scams\"}]</td>\n",
       "      <td>en</td>\n",
       "      <td>Heartbreakers</td>\n",
       "      <td>Max and Page are a brilliant mother/daughter c...</td>\n",
       "      <td>13.932203</td>\n",
       "      <td>[{\"name\": \"Davis Entertainment\", \"id\": 1302}, ...</td>\n",
       "      <td>[{\"iso_3166_1\": \"US\", \"name\": \"United States o...</td>\n",
       "      <td>2001-03-23</td>\n",
       "      <td>0</td>\n",
       "      <td>123.0</td>\n",
       "      <td>[{\"iso_639_1\": \"en\", \"name\": \"English\"}, {\"iso...</td>\n",
       "      <td>Released</td>\n",
       "      <td>Caution: Dangerous Curves Ahead</td>\n",
       "      <td>Heartbreakers</td>\n",
       "      <td>5.7</td>\n",
       "      <td>254</td>\n",
       "    </tr>\n",
       "  </tbody>\n",
       "</table>\n",
       "</div>"
      ],
      "text/plain": [
       "        budget                                             genres homepage  \\\n",
       "4495    609000  [{\"id\": 35, \"name\": \"Comedy\"}, {\"id\": 10402, \"...      NaN   \n",
       "1309  35000000  [{\"id\": 80, \"name\": \"Crime\"}, {\"id\": 35, \"name...      NaN   \n",
       "\n",
       "         id                                           keywords  \\\n",
       "4495   3080  [{\"id\": 110, \"name\": \"venice\"}, {\"id\": 1691, \"...   \n",
       "1309  10833         [{\"id\": 206718, \"name\": \"cons and scams\"}]   \n",
       "\n",
       "     original_language original_title  \\\n",
       "4495                en        Top Hat   \n",
       "1309                en  Heartbreakers   \n",
       "\n",
       "                                               overview  popularity  \\\n",
       "4495  Showman Jerry Travers is working for producer ...    3.898498   \n",
       "1309  Max and Page are a brilliant mother/daughter c...   13.932203   \n",
       "\n",
       "                                   production_companies  \\\n",
       "4495          [{\"name\": \"RKO Radio Pictures\", \"id\": 6}]   \n",
       "1309  [{\"name\": \"Davis Entertainment\", \"id\": 1302}, ...   \n",
       "\n",
       "                                   production_countries release_date  revenue  \\\n",
       "4495  [{\"iso_3166_1\": \"US\", \"name\": \"United States o...   1935-09-06  3202000   \n",
       "1309  [{\"iso_3166_1\": \"US\", \"name\": \"United States o...   2001-03-23        0   \n",
       "\n",
       "      runtime                                   spoken_languages    status  \\\n",
       "4495    101.0  [{\"iso_639_1\": \"en\", \"name\": \"English\"}, {\"iso...  Released   \n",
       "1309    123.0  [{\"iso_639_1\": \"en\", \"name\": \"English\"}, {\"iso...  Released   \n",
       "\n",
       "                                    tagline          title  vote_average  \\\n",
       "4495  They're Dancing Cheek-To-Cheek Again!        Top Hat           7.4   \n",
       "1309        Caution: Dangerous Curves Ahead  Heartbreakers           5.7   \n",
       "\n",
       "      vote_count  \n",
       "4495          59  \n",
       "1309         254  "
      ]
     },
     "execution_count": 40,
     "metadata": {},
     "output_type": "execute_result"
    }
   ],
   "source": [
    "path = 'dataset/tmdb_5000_movies.csv'\n",
    "df = pd.read_csv(path)\n",
    "df.sample(2)\n"
   ]
  },
  {
   "cell_type": "code",
   "execution_count": 41,
   "id": "c49d8bac",
   "metadata": {},
   "outputs": [
    {
     "name": "stdout",
     "output_type": "stream",
     "text": [
      "<class 'pandas.core.frame.DataFrame'>\n",
      "RangeIndex: 4803 entries, 0 to 4802\n",
      "Data columns (total 20 columns):\n",
      " #   Column                Non-Null Count  Dtype  \n",
      "---  ------                --------------  -----  \n",
      " 0   budget                4803 non-null   int64  \n",
      " 1   genres                4803 non-null   object \n",
      " 2   homepage              1712 non-null   object \n",
      " 3   id                    4803 non-null   int64  \n",
      " 4   keywords              4803 non-null   object \n",
      " 5   original_language     4803 non-null   object \n",
      " 6   original_title        4803 non-null   object \n",
      " 7   overview              4800 non-null   object \n",
      " 8   popularity            4803 non-null   float64\n",
      " 9   production_companies  4803 non-null   object \n",
      " 10  production_countries  4803 non-null   object \n",
      " 11  release_date          4802 non-null   object \n",
      " 12  revenue               4803 non-null   int64  \n",
      " 13  runtime               4801 non-null   float64\n",
      " 14  spoken_languages      4803 non-null   object \n",
      " 15  status                4803 non-null   object \n",
      " 16  tagline               3959 non-null   object \n",
      " 17  title                 4803 non-null   object \n",
      " 18  vote_average          4803 non-null   float64\n",
      " 19  vote_count            4803 non-null   int64  \n",
      "dtypes: float64(3), int64(4), object(13)\n",
      "memory usage: 750.6+ KB\n"
     ]
    }
   ],
   "source": [
    "df.info()"
   ]
  },
  {
   "cell_type": "code",
   "execution_count": 42,
   "id": "5528fc70",
   "metadata": {},
   "outputs": [
    {
     "data": {
      "text/plain": [
       "budget                     0\n",
       "genres                     0\n",
       "homepage                3091\n",
       "id                         0\n",
       "keywords                   0\n",
       "original_language          0\n",
       "original_title             0\n",
       "overview                   3\n",
       "popularity                 0\n",
       "production_companies       0\n",
       "production_countries       0\n",
       "release_date               1\n",
       "revenue                    0\n",
       "runtime                    2\n",
       "spoken_languages           0\n",
       "status                     0\n",
       "tagline                  844\n",
       "title                      0\n",
       "vote_average               0\n",
       "vote_count                 0\n",
       "dtype: int64"
      ]
     },
     "execution_count": 42,
     "metadata": {},
     "output_type": "execute_result"
    }
   ],
   "source": [
    "df.isnull().sum()"
   ]
  },
  {
   "cell_type": "markdown",
   "id": "105057c2",
   "metadata": {},
   "source": [
    "Select the features -> title & sinopsis"
   ]
  },
  {
   "cell_type": "code",
   "execution_count": 43,
   "id": "6b673d9d",
   "metadata": {},
   "outputs": [
    {
     "data": {
      "text/html": [
       "<div>\n",
       "<style scoped>\n",
       "    .dataframe tbody tr th:only-of-type {\n",
       "        vertical-align: middle;\n",
       "    }\n",
       "\n",
       "    .dataframe tbody tr th {\n",
       "        vertical-align: top;\n",
       "    }\n",
       "\n",
       "    .dataframe thead th {\n",
       "        text-align: right;\n",
       "    }\n",
       "</style>\n",
       "<table border=\"1\" class=\"dataframe\">\n",
       "  <thead>\n",
       "    <tr style=\"text-align: right;\">\n",
       "      <th></th>\n",
       "      <th>title</th>\n",
       "      <th>overview</th>\n",
       "    </tr>\n",
       "  </thead>\n",
       "  <tbody>\n",
       "    <tr>\n",
       "      <th>0</th>\n",
       "      <td>Avatar</td>\n",
       "      <td>In the 22nd century, a paraplegic Marine is di...</td>\n",
       "    </tr>\n",
       "    <tr>\n",
       "      <th>1</th>\n",
       "      <td>Pirates of the Caribbean: At World's End</td>\n",
       "      <td>Captain Barbossa, long believed to be dead, ha...</td>\n",
       "    </tr>\n",
       "  </tbody>\n",
       "</table>\n",
       "</div>"
      ],
      "text/plain": [
       "                                      title  \\\n",
       "0                                    Avatar   \n",
       "1  Pirates of the Caribbean: At World's End   \n",
       "\n",
       "                                            overview  \n",
       "0  In the 22nd century, a paraplegic Marine is di...  \n",
       "1  Captain Barbossa, long believed to be dead, ha...  "
      ]
     },
     "execution_count": 43,
     "metadata": {},
     "output_type": "execute_result"
    }
   ],
   "source": [
    "df_features = df[['title','overview']]\n",
    "df_features.head(2)"
   ]
  },
  {
   "cell_type": "markdown",
   "id": "b7d0dbff",
   "metadata": {},
   "source": [
    "### 2. Preprocessing "
   ]
  },
  {
   "cell_type": "markdown",
   "id": "0f2d7ab0",
   "metadata": {},
   "source": [
    "2.1 Data cleaning -> drop the rows where the columns is a null value or empty"
   ]
  },
  {
   "cell_type": "code",
   "execution_count": 44,
   "id": "98bc0500",
   "metadata": {},
   "outputs": [
    {
     "data": {
      "text/plain": [
       "title       0\n",
       "overview    3\n",
       "dtype: int64"
      ]
     },
     "execution_count": 44,
     "metadata": {},
     "output_type": "execute_result"
    }
   ],
   "source": [
    "df_features.isnull().sum()"
   ]
  },
  {
   "cell_type": "code",
   "execution_count": 45,
   "id": "da163c37",
   "metadata": {},
   "outputs": [
    {
     "data": {
      "text/plain": [
       "title       0\n",
       "overview    0\n",
       "dtype: int64"
      ]
     },
     "execution_count": 45,
     "metadata": {},
     "output_type": "execute_result"
    }
   ],
   "source": [
    "df_features = df_features[df_features['overview'].notna()]\n",
    "df_features = df_features[df_features['overview'].str.strip() != '']\n",
    "df_features.isnull().sum()"
   ]
  },
  {
   "cell_type": "markdown",
   "id": "b12dd2be",
   "metadata": {},
   "source": [
    "2.2 Text Preprocessing"
   ]
  },
  {
   "cell_type": "markdown",
   "id": "f55139b1",
   "metadata": {},
   "source": [
    "Convert text to lowercase, delete special characters and numbers, tokenize, delete stopwords, steming"
   ]
  },
  {
   "cell_type": "code",
   "execution_count": 46,
   "id": "254dcbb6",
   "metadata": {},
   "outputs": [],
   "source": [
    "import re\n",
    "import nltk\n",
    "from nltk.corpus import stopwords\n",
    "from nltk.tokenize import word_tokenize\n",
    "from nltk.stem import WordNetLemmatizer\n",
    "\n",
    "\n",
    "def text_preprocessing(text):\n",
    "\n",
    "    text = text.lower() #conver to lowercase\n",
    "\n",
    "    text = re.sub(r'[^a-z\\s]', '', text) #delete special characters and numbers\n",
    "\n",
    "    tokens = word_tokenize(text)\n",
    "\n",
    "    stop_words = set(stopwords.words('english'))\n",
    "    tokens = [word for word in tokens if word not in stop_words] #ignore stopwords\n",
    "\n",
    "    lemmatizer = WordNetLemmatizer()\n",
    "    tokens = [lemmatizer.lemmatize(word) for word in tokens]\n",
    "\n",
    "    text = ' '.join(tokens)\n",
    "\n",
    "    return text\n",
    "\n",
    "\n",
    "\n",
    "\n"
   ]
  },
  {
   "cell_type": "code",
   "execution_count": 48,
   "id": "c5acb9d3",
   "metadata": {},
   "outputs": [],
   "source": [
    "import re\n",
    "\n",
    "basic_stopwords = {'the','a','an','and','is','it','in','to','of','for','on','with','this','that'}\n",
    "\n",
    "def preprocess_text_light(text):\n",
    "    text = text.lower()\n",
    "    text = re.sub(r'[^a-z\\s]', '', text)\n",
    "    tokens = text.split()\n",
    "    tokens = [word for word in tokens if word not in basic_stopwords]\n",
    "    return ' '.join(tokens)\n",
    "\n",
    "df_features['overview_clean'] = df_features['overview'].apply(preprocess_text_light)\n"
   ]
  },
  {
   "cell_type": "code",
   "execution_count": 55,
   "id": "cb55ad86",
   "metadata": {},
   "outputs": [
    {
     "data": {
      "text/html": [
       "<div>\n",
       "<style scoped>\n",
       "    .dataframe tbody tr th:only-of-type {\n",
       "        vertical-align: middle;\n",
       "    }\n",
       "\n",
       "    .dataframe tbody tr th {\n",
       "        vertical-align: top;\n",
       "    }\n",
       "\n",
       "    .dataframe thead th {\n",
       "        text-align: right;\n",
       "    }\n",
       "</style>\n",
       "<table border=\"1\" class=\"dataframe\">\n",
       "  <thead>\n",
       "    <tr style=\"text-align: right;\">\n",
       "      <th></th>\n",
       "      <th>title</th>\n",
       "      <th>overview_clean</th>\n",
       "    </tr>\n",
       "  </thead>\n",
       "  <tbody>\n",
       "    <tr>\n",
       "      <th>0</th>\n",
       "      <td>Avatar</td>\n",
       "      <td>nd century paraplegic marine dispatched moon p...</td>\n",
       "    </tr>\n",
       "    <tr>\n",
       "      <th>1</th>\n",
       "      <td>Pirates of the Caribbean: At World's End</td>\n",
       "      <td>captain barbossa long believed be dead has com...</td>\n",
       "    </tr>\n",
       "    <tr>\n",
       "      <th>2</th>\n",
       "      <td>Spectre</td>\n",
       "      <td>cryptic message from bonds past sends him trai...</td>\n",
       "    </tr>\n",
       "    <tr>\n",
       "      <th>3</th>\n",
       "      <td>The Dark Knight Rises</td>\n",
       "      <td>following death district attorney harvey dent ...</td>\n",
       "    </tr>\n",
       "    <tr>\n",
       "      <th>4</th>\n",
       "      <td>John Carter</td>\n",
       "      <td>john carter warweary former military captain w...</td>\n",
       "    </tr>\n",
       "    <tr>\n",
       "      <th>...</th>\n",
       "      <td>...</td>\n",
       "      <td>...</td>\n",
       "    </tr>\n",
       "    <tr>\n",
       "      <th>4798</th>\n",
       "      <td>El Mariachi</td>\n",
       "      <td>el mariachi just wants play his guitar carry f...</td>\n",
       "    </tr>\n",
       "    <tr>\n",
       "      <th>4799</th>\n",
       "      <td>Newlyweds</td>\n",
       "      <td>newlywed couples honeymoon upended by arrivals...</td>\n",
       "    </tr>\n",
       "    <tr>\n",
       "      <th>4800</th>\n",
       "      <td>Signed, Sealed, Delivered</td>\n",
       "      <td>signed sealed delivered introduces dedicated q...</td>\n",
       "    </tr>\n",
       "    <tr>\n",
       "      <th>4801</th>\n",
       "      <td>Shanghai Calling</td>\n",
       "      <td>when ambitious new york attorney sam sent shan...</td>\n",
       "    </tr>\n",
       "    <tr>\n",
       "      <th>4802</th>\n",
       "      <td>My Date with Drew</td>\n",
       "      <td>ever since second grade when he first saw her ...</td>\n",
       "    </tr>\n",
       "  </tbody>\n",
       "</table>\n",
       "<p>4799 rows × 2 columns</p>\n",
       "</div>"
      ],
      "text/plain": [
       "                                         title  \\\n",
       "0                                       Avatar   \n",
       "1     Pirates of the Caribbean: At World's End   \n",
       "2                                      Spectre   \n",
       "3                        The Dark Knight Rises   \n",
       "4                                  John Carter   \n",
       "...                                        ...   \n",
       "4798                               El Mariachi   \n",
       "4799                                 Newlyweds   \n",
       "4800                 Signed, Sealed, Delivered   \n",
       "4801                          Shanghai Calling   \n",
       "4802                         My Date with Drew   \n",
       "\n",
       "                                         overview_clean  \n",
       "0     nd century paraplegic marine dispatched moon p...  \n",
       "1     captain barbossa long believed be dead has com...  \n",
       "2     cryptic message from bonds past sends him trai...  \n",
       "3     following death district attorney harvey dent ...  \n",
       "4     john carter warweary former military captain w...  \n",
       "...                                                 ...  \n",
       "4798  el mariachi just wants play his guitar carry f...  \n",
       "4799  newlywed couples honeymoon upended by arrivals...  \n",
       "4800  signed sealed delivered introduces dedicated q...  \n",
       "4801  when ambitious new york attorney sam sent shan...  \n",
       "4802  ever since second grade when he first saw her ...  \n",
       "\n",
       "[4799 rows x 2 columns]"
      ]
     },
     "execution_count": 55,
     "metadata": {},
     "output_type": "execute_result"
    }
   ],
   "source": [
    "df_features['overview_clean'] = df_features['overview'].apply(preprocess_text_light)\n",
    "df_features.drop(columns='overview',axis=1)"
   ]
  },
  {
   "cell_type": "markdown",
   "id": "30e9caf0",
   "metadata": {},
   "source": [
    "### 3. Compute Similarity"
   ]
  },
  {
   "cell_type": "markdown",
   "id": "40161a3e",
   "metadata": {},
   "source": [
    "1. Using cosine similarity"
   ]
  },
  {
   "attachments": {
    "image.png": {
     "image/png": "[encoded data removed]"
    }
   },
   "cell_type": "markdown",
   "id": "18cd661b",
   "metadata": {},
   "source": [
    "![image.png](attachment:image.png)"
   ]
  },
  {
   "cell_type": "markdown",
   "id": "7446dde1",
   "metadata": {},
   "source": [
    "Load light pretrained model -> 128Mb"
   ]
  },
  {
   "cell_type": "code",
   "execution_count": 56,
   "id": "76914927",
   "metadata": {},
   "outputs": [
    {
     "name": "stdout",
     "output_type": "stream",
     "text": [
      "[==================================================] 100.0% 128.1/128.1MB downloaded\n"
     ]
    }
   ],
   "source": [
    "import gensim.downloader as api\n",
    "\n",
    "wv = api.load(\"glove-wiki-gigaword-100\")"
   ]
  },
  {
   "cell_type": "markdown",
   "id": "55d40d11",
   "metadata": {},
   "source": [
    "Computes average of vectors per document"
   ]
  },
  {
   "cell_type": "code",
   "execution_count": 57,
   "id": "110aa746",
   "metadata": {},
   "outputs": [],
   "source": [
    "def doc_vector(tokens,wv,dim = 100):\n",
    "\n",
    "    vecs = [wv[w] for w in tokens if w in wv]\n",
    "\n",
    "    if not vecs:\n",
    "        return np.zeros(dim,dtype = np.float32)\n",
    "    \n",
    "    return np.mean(vecs,axis=0)\n",
    "\n"
   ]
  },
  {
   "cell_type": "code",
   "execution_count": 58,
   "id": "bc46fcf4",
   "metadata": {},
   "outputs": [
    {
     "data": {
      "text/plain": [
       "(4799, 100)"
      ]
     },
     "execution_count": 58,
     "metadata": {},
     "output_type": "execute_result"
    }
   ],
   "source": [
    "DIM = wv.vector_size\n",
    "X = np.vstack(df_features['overview_clean'].fillna(\"\")\n",
    "              .apply(lambda s: doc_vector(s.split(), wv, dim=DIM)).to_numpy())\n",
    "\n",
    "X.shape  # (n_peliculas, DIM)"
   ]
  },
  {
   "cell_type": "markdown",
   "id": "8a96302e",
   "metadata": {},
   "source": [
    "### 4. Cosine based recommender"
   ]
  },
  {
   "cell_type": "code",
   "execution_count": 66,
   "id": "c3841da1",
   "metadata": {},
   "outputs": [],
   "source": [
    "from sklearn.metrics.pairwise import cosine_similarity\n",
    "\n",
    "S = cosine_similarity(X) #similarity matrix \n",
    "\n",
    "def recomendate(idx, k = 10):\n",
    "    sims = S[idx]\n",
    "    top = sims.argsort()[::-1]\n",
    "    top = [j for j in top if j != idx][:k]\n",
    "    return df_features.iloc[top][['title','overview']]"
   ]
  },
  {
   "cell_type": "code",
   "execution_count": 69,
   "id": "2cb55c9a",
   "metadata": {},
   "outputs": [
    {
     "name": "stdout",
     "output_type": "stream",
     "text": [
      "Peliculas recomendadas para:  Spectre\n"
     ]
    },
    {
     "data": {
      "text/html": [
       "<div>\n",
       "<style scoped>\n",
       "    .dataframe tbody tr th:only-of-type {\n",
       "        vertical-align: middle;\n",
       "    }\n",
       "\n",
       "    .dataframe tbody tr th {\n",
       "        vertical-align: top;\n",
       "    }\n",
       "\n",
       "    .dataframe thead th {\n",
       "        text-align: right;\n",
       "    }\n",
       "</style>\n",
       "<table border=\"1\" class=\"dataframe\">\n",
       "  <thead>\n",
       "    <tr style=\"text-align: right;\">\n",
       "      <th></th>\n",
       "      <th>title</th>\n",
       "      <th>overview</th>\n",
       "    </tr>\n",
       "  </thead>\n",
       "  <tbody>\n",
       "    <tr>\n",
       "      <th>1894</th>\n",
       "      <td>War</td>\n",
       "      <td>FBI agent Jack Crawford is out for revenge whe...</td>\n",
       "    </tr>\n",
       "    <tr>\n",
       "      <th>97</th>\n",
       "      <td>Shin Godzilla</td>\n",
       "      <td>From the mind behind Evangelion comes a hit la...</td>\n",
       "    </tr>\n",
       "    <tr>\n",
       "      <th>626</th>\n",
       "      <td>The X Files</td>\n",
       "      <td>Mulder and Scully, now taken off the FBI's X F...</td>\n",
       "    </tr>\n",
       "    <tr>\n",
       "      <th>2295</th>\n",
       "      <td>Firestorm</td>\n",
       "      <td>A crew of seasoned criminals led by the notori...</td>\n",
       "    </tr>\n",
       "    <tr>\n",
       "      <th>163</th>\n",
       "      <td>Watchmen</td>\n",
       "      <td>In a gritty and alternate 1985 the glory days ...</td>\n",
       "    </tr>\n",
       "    <tr>\n",
       "      <th>29</th>\n",
       "      <td>Skyfall</td>\n",
       "      <td>When Bond's latest assignment goes gravely wro...</td>\n",
       "    </tr>\n",
       "    <tr>\n",
       "      <th>708</th>\n",
       "      <td>Maze Runner: The Scorch Trials</td>\n",
       "      <td>Thomas and his fellow Gladers face their great...</td>\n",
       "    </tr>\n",
       "    <tr>\n",
       "      <th>1892</th>\n",
       "      <td>The Losers</td>\n",
       "      <td>A tale of double cross and revenge, centered u...</td>\n",
       "    </tr>\n",
       "    <tr>\n",
       "      <th>2958</th>\n",
       "      <td>Saw V</td>\n",
       "      <td>Detective Hoffman is seemingly the last person...</td>\n",
       "    </tr>\n",
       "    <tr>\n",
       "      <th>2080</th>\n",
       "      <td>Tinker Tailor Soldier Spy</td>\n",
       "      <td>Recently-retired MI6 agent, George Smiley is d...</td>\n",
       "    </tr>\n",
       "  </tbody>\n",
       "</table>\n",
       "</div>"
      ],
      "text/plain": [
       "                               title  \\\n",
       "1894                             War   \n",
       "97                     Shin Godzilla   \n",
       "626                      The X Files   \n",
       "2295                       Firestorm   \n",
       "163                         Watchmen   \n",
       "29                           Skyfall   \n",
       "708   Maze Runner: The Scorch Trials   \n",
       "1892                      The Losers   \n",
       "2958                           Saw V   \n",
       "2080       Tinker Tailor Soldier Spy   \n",
       "\n",
       "                                               overview  \n",
       "1894  FBI agent Jack Crawford is out for revenge whe...  \n",
       "97    From the mind behind Evangelion comes a hit la...  \n",
       "626   Mulder and Scully, now taken off the FBI's X F...  \n",
       "2295  A crew of seasoned criminals led by the notori...  \n",
       "163   In a gritty and alternate 1985 the glory days ...  \n",
       "29    When Bond's latest assignment goes gravely wro...  \n",
       "708   Thomas and his fellow Gladers face their great...  \n",
       "1892  A tale of double cross and revenge, centered u...  \n",
       "2958  Detective Hoffman is seemingly the last person...  \n",
       "2080  Recently-retired MI6 agent, George Smiley is d...  "
      ]
     },
     "execution_count": 69,
     "metadata": {},
     "output_type": "execute_result"
    }
   ],
   "source": [
    "\n",
    "print('Peliculas recomendadas para: ', df_features['title'][2])\n",
    "recomendate(2)"
   ]
  }
 ],
 "metadata": {
  "kernelspec": {
   "display_name": "DeepLearningEnv",
   "language": "python",
   "name": ".venv"
  },
  "language_info": {
   "codemirror_mode": {
    "name": "ipython",
    "version": 3
   },
   "file_extension": ".py",
   "mimetype": "text/x-python",
   "name": "python",
   "nbconvert_exporter": "python",
   "pygments_lexer": "ipython3",
   "version": "3.12.5"
  }
 },
 "nbformat": 4,
 "nbformat_minor": 5
}
