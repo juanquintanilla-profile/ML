{
 "cells": [
  {
   "cell_type": "markdown",
   "id": "64063eb2",
   "metadata": {},
   "source": [
    "\n",
    "# Predicción de precios de casas con PyTorch (King County)\n",
    "\n",
    "**Fecha de generación:** 2025-10-21 18:19\n",
    "\n",
    "Este notebook cumple con los criterios del ejercicio:\n",
    "- **Preparación y preprocesamiento** (carga, limpieza, división 65/20/15)\n",
    "- **Normalización de características** (excepto `price`)\n",
    "- **Modelo Feed-Forward en PyTorch** (>=2 capas ocultas, ReLU, MSE, Adam con `weight_decay`)\n",
    "- **Entrenamiento y validación** (100 épocas + gráfica de pérdidas)\n",
    "- **Evaluación en test** (pérdida final)\n"
   ]
  },
  {
   "cell_type": "code",
   "execution_count": 2,
   "id": "0acd8349",
   "metadata": {},
   "outputs": [
    {
     "data": {
      "text/plain": [
       "device(type='cpu')"
      ]
     },
     "execution_count": 2,
     "metadata": {},
     "output_type": "execute_result"
    }
   ],
   "source": [
    "\n",
    "# =========================\n",
    "# 1) Imports y configuración\n",
    "# =========================\n",
    "import os\n",
    "import math\n",
    "import numpy as np\n",
    "import pandas as pd\n",
    "import torch\n",
    "import torch.nn as nn\n",
    "from torch.utils.data import TensorDataset, DataLoader\n",
    "from sklearn.model_selection import train_test_split\n",
    "from sklearn.preprocessing import StandardScaler\n",
    "import matplotlib.pyplot as plt\n",
    "from typing import List\n",
    "\n",
    "# Reproducibilidad\n",
    "SEED = 42\n",
    "np.random.seed(SEED)\n",
    "torch.manual_seed(SEED)\n",
    "torch.cuda.manual_seed_all(SEED)\n",
    "\n",
    "DEVICE = torch.device(\"cuda\" if torch.cuda.is_available() else \"cpu\")\n",
    "DEVICE\n"
   ]
  },
  {
   "cell_type": "markdown",
   "id": "a996047e",
   "metadata": {},
   "source": [
    "\n",
    "## 1. Preparación de los datos\n",
    "\n",
    "- Carga del `dataset.csv` (ruta **absoluta**).\n",
    "- Limpieza básica: quitar espacios en nombres de columnas, eliminación de nulos en columnas clave.\n",
    "- Verificación de consistencia.\n"
   ]
  },
  {
   "cell_type": "code",
   "execution_count": 5,
   "id": "40541381",
   "metadata": {},
   "outputs": [
    {
     "name": "stdout",
     "output_type": "stream",
     "text": [
      "Dimensiones iniciales: (21613, 21)\n",
      "Columnas: ['id', 'date', 'price', 'bedrooms', 'bathrooms', 'sqft_living', 'sqft_lot', 'floors', 'waterfront', 'view', 'condition', 'grade', 'sqft_above', 'sqft_basement', 'yr_built', 'yr_renovated', 'zipcode', 'lat', 'long', 'sqft_living15', 'sqft_lot15']\n"
     ]
    },
    {
     "data": {
      "text/html": [
       "<div>\n",
       "<style scoped>\n",
       "    .dataframe tbody tr th:only-of-type {\n",
       "        vertical-align: middle;\n",
       "    }\n",
       "\n",
       "    .dataframe tbody tr th {\n",
       "        vertical-align: top;\n",
       "    }\n",
       "\n",
       "    .dataframe thead th {\n",
       "        text-align: right;\n",
       "    }\n",
       "</style>\n",
       "<table border=\"1\" class=\"dataframe\">\n",
       "  <thead>\n",
       "    <tr style=\"text-align: right;\">\n",
       "      <th></th>\n",
       "      <th>id</th>\n",
       "      <th>date</th>\n",
       "      <th>price</th>\n",
       "      <th>bedrooms</th>\n",
       "      <th>bathrooms</th>\n",
       "      <th>sqft_living</th>\n",
       "      <th>sqft_lot</th>\n",
       "      <th>floors</th>\n",
       "      <th>waterfront</th>\n",
       "      <th>view</th>\n",
       "      <th>...</th>\n",
       "      <th>grade</th>\n",
       "      <th>sqft_above</th>\n",
       "      <th>sqft_basement</th>\n",
       "      <th>yr_built</th>\n",
       "      <th>yr_renovated</th>\n",
       "      <th>zipcode</th>\n",
       "      <th>lat</th>\n",
       "      <th>long</th>\n",
       "      <th>sqft_living15</th>\n",
       "      <th>sqft_lot15</th>\n",
       "    </tr>\n",
       "  </thead>\n",
       "  <tbody>\n",
       "    <tr>\n",
       "      <th>0</th>\n",
       "      <td>7129300520</td>\n",
       "      <td>20141013T000000</td>\n",
       "      <td>221900.0</td>\n",
       "      <td>3</td>\n",
       "      <td>1.00</td>\n",
       "      <td>1180</td>\n",
       "      <td>5650</td>\n",
       "      <td>1.0</td>\n",
       "      <td>0</td>\n",
       "      <td>0</td>\n",
       "      <td>...</td>\n",
       "      <td>7</td>\n",
       "      <td>1180</td>\n",
       "      <td>0</td>\n",
       "      <td>1955</td>\n",
       "      <td>0</td>\n",
       "      <td>98178</td>\n",
       "      <td>47.5112</td>\n",
       "      <td>-122.257</td>\n",
       "      <td>1340</td>\n",
       "      <td>5650</td>\n",
       "    </tr>\n",
       "    <tr>\n",
       "      <th>1</th>\n",
       "      <td>6414100192</td>\n",
       "      <td>20141209T000000</td>\n",
       "      <td>538000.0</td>\n",
       "      <td>3</td>\n",
       "      <td>2.25</td>\n",
       "      <td>2570</td>\n",
       "      <td>7242</td>\n",
       "      <td>2.0</td>\n",
       "      <td>0</td>\n",
       "      <td>0</td>\n",
       "      <td>...</td>\n",
       "      <td>7</td>\n",
       "      <td>2170</td>\n",
       "      <td>400</td>\n",
       "      <td>1951</td>\n",
       "      <td>1991</td>\n",
       "      <td>98125</td>\n",
       "      <td>47.7210</td>\n",
       "      <td>-122.319</td>\n",
       "      <td>1690</td>\n",
       "      <td>7639</td>\n",
       "    </tr>\n",
       "    <tr>\n",
       "      <th>2</th>\n",
       "      <td>5631500400</td>\n",
       "      <td>20150225T000000</td>\n",
       "      <td>180000.0</td>\n",
       "      <td>2</td>\n",
       "      <td>1.00</td>\n",
       "      <td>770</td>\n",
       "      <td>10000</td>\n",
       "      <td>1.0</td>\n",
       "      <td>0</td>\n",
       "      <td>0</td>\n",
       "      <td>...</td>\n",
       "      <td>6</td>\n",
       "      <td>770</td>\n",
       "      <td>0</td>\n",
       "      <td>1933</td>\n",
       "      <td>0</td>\n",
       "      <td>98028</td>\n",
       "      <td>47.7379</td>\n",
       "      <td>-122.233</td>\n",
       "      <td>2720</td>\n",
       "      <td>8062</td>\n",
       "    </tr>\n",
       "    <tr>\n",
       "      <th>3</th>\n",
       "      <td>2487200875</td>\n",
       "      <td>20141209T000000</td>\n",
       "      <td>604000.0</td>\n",
       "      <td>4</td>\n",
       "      <td>3.00</td>\n",
       "      <td>1960</td>\n",
       "      <td>5000</td>\n",
       "      <td>1.0</td>\n",
       "      <td>0</td>\n",
       "      <td>0</td>\n",
       "      <td>...</td>\n",
       "      <td>7</td>\n",
       "      <td>1050</td>\n",
       "      <td>910</td>\n",
       "      <td>1965</td>\n",
       "      <td>0</td>\n",
       "      <td>98136</td>\n",
       "      <td>47.5208</td>\n",
       "      <td>-122.393</td>\n",
       "      <td>1360</td>\n",
       "      <td>5000</td>\n",
       "    </tr>\n",
       "    <tr>\n",
       "      <th>4</th>\n",
       "      <td>1954400510</td>\n",
       "      <td>20150218T000000</td>\n",
       "      <td>510000.0</td>\n",
       "      <td>3</td>\n",
       "      <td>2.00</td>\n",
       "      <td>1680</td>\n",
       "      <td>8080</td>\n",
       "      <td>1.0</td>\n",
       "      <td>0</td>\n",
       "      <td>0</td>\n",
       "      <td>...</td>\n",
       "      <td>8</td>\n",
       "      <td>1680</td>\n",
       "      <td>0</td>\n",
       "      <td>1987</td>\n",
       "      <td>0</td>\n",
       "      <td>98074</td>\n",
       "      <td>47.6168</td>\n",
       "      <td>-122.045</td>\n",
       "      <td>1800</td>\n",
       "      <td>7503</td>\n",
       "    </tr>\n",
       "  </tbody>\n",
       "</table>\n",
       "<p>5 rows × 21 columns</p>\n",
       "</div>"
      ],
      "text/plain": [
       "           id             date     price  bedrooms  bathrooms  sqft_living  \\\n",
       "0  7129300520  20141013T000000  221900.0         3       1.00         1180   \n",
       "1  6414100192  20141209T000000  538000.0         3       2.25         2570   \n",
       "2  5631500400  20150225T000000  180000.0         2       1.00          770   \n",
       "3  2487200875  20141209T000000  604000.0         4       3.00         1960   \n",
       "4  1954400510  20150218T000000  510000.0         3       2.00         1680   \n",
       "\n",
       "   sqft_lot  floors  waterfront  view  ...  grade  sqft_above  sqft_basement  \\\n",
       "0      5650     1.0           0     0  ...      7        1180              0   \n",
       "1      7242     2.0           0     0  ...      7        2170            400   \n",
       "2     10000     1.0           0     0  ...      6         770              0   \n",
       "3      5000     1.0           0     0  ...      7        1050            910   \n",
       "4      8080     1.0           0     0  ...      8        1680              0   \n",
       "\n",
       "   yr_built  yr_renovated  zipcode      lat     long  sqft_living15  \\\n",
       "0      1955             0    98178  47.5112 -122.257           1340   \n",
       "1      1951          1991    98125  47.7210 -122.319           1690   \n",
       "2      1933             0    98028  47.7379 -122.233           2720   \n",
       "3      1965             0    98136  47.5208 -122.393           1360   \n",
       "4      1987             0    98074  47.6168 -122.045           1800   \n",
       "\n",
       "   sqft_lot15  \n",
       "0        5650  \n",
       "1        7639  \n",
       "2        8062  \n",
       "3        5000  \n",
       "4        7503  \n",
       "\n",
       "[5 rows x 21 columns]"
      ]
     },
     "execution_count": 5,
     "metadata": {},
     "output_type": "execute_result"
    }
   ],
   "source": [
    "\n",
    "# Ruta ABSOLUTA al CSV (ajusta si lo ejecutas en otro entorno)\n",
    "# En este entorno, el archivo subido está en /mnt/data/dataset.csv\n",
    "DATA_PATH = \"dataset.csv\"  # Cambia a '/workspace/dataset.csv' si es tu ruta\n",
    "\n",
    "\n",
    "df = pd.read_csv(DATA_PATH)\n",
    "\n",
    "# Limpia nombres de columnas\n",
    "df.columns = [c.strip().replace(\" \", \"_\") for c in df.columns]\n",
    "\n",
    "print(\"Dimensiones iniciales:\", df.shape)\n",
    "print(\"Columnas:\", df.columns.tolist())\n",
    "\n",
    "# Visualiza primeras filas\n",
    "df.head()\n"
   ]
  },
  {
   "cell_type": "code",
   "execution_count": 6,
   "id": "0eaa365f",
   "metadata": {},
   "outputs": [
    {
     "name": "stdout",
     "output_type": "stream",
     "text": [
      "Después de eliminar nulos en columnas clave: (21613, 21)\n",
      "Después de eliminar duplicados: (21613, 21)\n",
      "<class 'pandas.core.frame.DataFrame'>\n",
      "RangeIndex: 21613 entries, 0 to 21612\n",
      "Data columns (total 18 columns):\n",
      " #   Column         Non-Null Count  Dtype  \n",
      "---  ------         --------------  -----  \n",
      " 0   bedrooms       21613 non-null  int64  \n",
      " 1   bathrooms      21613 non-null  float64\n",
      " 2   sqft_living    21613 non-null  int64  \n",
      " 3   sqft_lot       21613 non-null  int64  \n",
      " 4   floors         21613 non-null  float64\n",
      " 5   waterfront     21613 non-null  int64  \n",
      " 6   view           21613 non-null  int64  \n",
      " 7   condition      21613 non-null  int64  \n",
      " 8   grade          21613 non-null  int64  \n",
      " 9   sqft_above     21613 non-null  int64  \n",
      " 10  sqft_basement  21613 non-null  int64  \n",
      " 11  yr_built       21613 non-null  int64  \n",
      " 12  yr_renovated   21613 non-null  int64  \n",
      " 13  lat            21613 non-null  float64\n",
      " 14  long           21613 non-null  float64\n",
      " 15  sqft_living15  21613 non-null  int64  \n",
      " 16  sqft_lot15     21613 non-null  int64  \n",
      " 17  price          21613 non-null  float64\n",
      "dtypes: float64(5), int64(13)\n",
      "memory usage: 3.0 MB\n"
     ]
    }
   ],
   "source": [
    "\n",
    "# Columnas clave típicas del dataset de King County\n",
    "# (ajusta esta lista si tu CSV difiere)\n",
    "possible_numeric_cols = [\n",
    "    \"bedrooms\",\"bathrooms\",\"sqft_living\",\"sqft_lot\",\"floors\",\n",
    "    \"waterfront\",\"view\",\"condition\",\"grade\",\"sqft_above\",\n",
    "    \"sqft_basement\",\"yr_built\",\"yr_renovated\",\"lat\",\"long\",\n",
    "    \"sqft_living15\",\"sqft_lot15\"\n",
    "]\n",
    "\n",
    "# Filtra las que existan realmente en el CSV cargado\n",
    "numeric_cols = [c for c in possible_numeric_cols if c in df.columns]\n",
    "\n",
    "target_col = \"price\"\n",
    "if target_col not in df.columns:\n",
    "    raise ValueError(f\"No se encontró la columna objetivo '{target_col}' en el CSV. Columnas disponibles: {df.columns.tolist()}\")\n",
    "\n",
    "# Elimina filas con nulos en columnas clave (features + target)\n",
    "cols_required = numeric_cols + [target_col]\n",
    "df_clean = df.dropna(subset=cols_required).copy()\n",
    "print(\"Después de eliminar nulos en columnas clave:\", df_clean.shape)\n",
    "\n",
    "# (Opcional) Elimina duplicados\n",
    "df_clean = df_clean.drop_duplicates().reset_index(drop=True)\n",
    "print(\"Después de eliminar duplicados:\", df_clean.shape)\n",
    "\n",
    "# Verificación tipos\n",
    "df_clean[numeric_cols + [target_col]].info()\n"
   ]
  },
  {
   "cell_type": "markdown",
   "id": "3dca0ca1",
   "metadata": {},
   "source": [
    "\n",
    "## 2. División del dataset (65% / 20% / 15%)\n",
    "\n",
    "Se realiza un `train_test_split` doble para obtener las proporciones exactas.\n"
   ]
  },
  {
   "cell_type": "code",
   "execution_count": 7,
   "id": "577520b8",
   "metadata": {},
   "outputs": [
    {
     "name": "stdout",
     "output_type": "stream",
     "text": [
      "Shapes -> train: (14048, 17), val: (4322, 17), test: (3243, 17)\n"
     ]
    }
   ],
   "source": [
    "\n",
    "X = df_clean[numeric_cols].astype(np.float32).values\n",
    "y = df_clean[[target_col]].astype(np.float32).values  # shape (n, 1)\n",
    "\n",
    "# Primera división: train (65%) y temp (35%)\n",
    "X_train, X_temp, y_train, y_temp = train_test_split(\n",
    "    X, y, test_size=0.35, random_state=SEED\n",
    ")\n",
    "\n",
    "# De los 35% restantes, partimos en 20% val y 15% test.\n",
    "# Proporción relativa valida/test = 20/35 y 15/35\n",
    "val_ratio_relative = 20 / 35  # ≈ 0.5714\n",
    "X_val, X_test, y_val, y_test = train_test_split(\n",
    "    X_temp, y_temp, test_size=(1 - val_ratio_relative), random_state=SEED\n",
    ")\n",
    "\n",
    "print(f\"Shapes -> train: {X_train.shape}, val: {X_val.shape}, test: {X_test.shape}\")\n"
   ]
  },
  {
   "cell_type": "markdown",
   "id": "1473536b",
   "metadata": {},
   "source": [
    "\n",
    "## 3. Normalización de características\n",
    "\n",
    "Se usa `StandardScaler` **solo** para las variables de entrada. **No** se normaliza la variable objetivo `price`.\n"
   ]
  },
  {
   "cell_type": "code",
   "execution_count": 8,
   "id": "c9c3de0b",
   "metadata": {},
   "outputs": [
    {
     "data": {
      "text/plain": [
       "(array([[ 0.67547697,  0.5065599 ,  1.2420547 ,  0.5301642 ,  0.9256249 ,\n",
       "         -0.08381581, -0.3062755 , -0.6307961 ,  1.1506085 ,  1.7184352 ,\n",
       "         -0.65759146,  0.74654454, -0.20807374,  0.5024025 ,  1.574869  ,\n",
       "          1.3879609 ,  0.74941385],\n",
       "        [ 0.67547697,  0.5065599 ,  0.8115882 , -0.08837971, -0.91919005,\n",
       "         -0.08381581, -0.3062755 ,  2.4407544 , -0.55767184, -0.05567055,\n",
       "          1.7780027 , -0.30731073, -0.20807374,  0.17223908,  0.67590404,\n",
       "         -0.01874318, -0.04594122],\n",
       "        [-0.3919134 ,  0.5065599 ,  0.46942276,  0.9195696 , -0.91919005,\n",
       "         -0.08381581, -0.3062755 , -0.6307961 ,  1.1506085 , -0.33515292,\n",
       "          1.5959022 ,  1.4264512 , -0.20807374, -0.6581602 ,  1.6105772 ,\n",
       "          0.42085183,  1.5325503 ]], dtype=float32),\n",
       " array([[737500.],\n",
       "        [674000.],\n",
       "        [650000.]], dtype=float32))"
      ]
     },
     "execution_count": 8,
     "metadata": {},
     "output_type": "execute_result"
    }
   ],
   "source": [
    "\n",
    "scaler = StandardScaler()\n",
    "X_train_scaled = scaler.fit_transform(X_train)\n",
    "X_val_scaled   = scaler.transform(X_val)\n",
    "X_test_scaled  = scaler.transform(X_test)\n",
    "\n",
    "# Objetivo sin escalar\n",
    "y_train_t = y_train.copy()\n",
    "y_val_t   = y_val.copy()\n",
    "y_test_t  = y_test.copy()\n",
    "\n",
    "X_train_scaled[:3], y_train_t[:3]\n"
   ]
  },
  {
   "cell_type": "markdown",
   "id": "fc12c444",
   "metadata": {},
   "source": [
    "\n",
    "## 4-5. Tensores y DataLoaders\n"
   ]
  },
  {
   "cell_type": "code",
   "execution_count": 9,
   "id": "c3e06162",
   "metadata": {},
   "outputs": [
    {
     "data": {
      "text/plain": [
       "(439, 136, 102)"
      ]
     },
     "execution_count": 9,
     "metadata": {},
     "output_type": "execute_result"
    }
   ],
   "source": [
    "\n",
    "# Conversión a tensores\n",
    "X_train_tensor = torch.tensor(X_train_scaled, dtype=torch.float32)\n",
    "y_train_tensor = torch.tensor(y_train_t, dtype=torch.float32)\n",
    "\n",
    "X_val_tensor = torch.tensor(X_val_scaled, dtype=torch.float32)\n",
    "y_val_tensor = torch.tensor(y_val_t, dtype=torch.float32)\n",
    "\n",
    "X_test_tensor = torch.tensor(X_test_scaled, dtype=torch.float32)\n",
    "y_test_tensor = torch.tensor(y_test_t, dtype=torch.float32)\n",
    "\n",
    "# Datasets y DataLoaders\n",
    "train_ds = TensorDataset(X_train_tensor, y_train_tensor)\n",
    "val_ds   = TensorDataset(X_val_tensor, y_val_tensor)\n",
    "test_ds  = TensorDataset(X_test_tensor, y_test_tensor)\n",
    "\n",
    "BATCH_SIZE = 32\n",
    "NUM_WORKERS = 4  # puedes bajar a 0 si tu entorno no lo soporta\n",
    "\n",
    "train_loader = DataLoader(train_ds, batch_size=BATCH_SIZE, shuffle=True, num_workers=NUM_WORKERS)\n",
    "val_loader   = DataLoader(val_ds,   batch_size=BATCH_SIZE, shuffle=False, num_workers=NUM_WORKERS)\n",
    "test_loader  = DataLoader(test_ds,  batch_size=BATCH_SIZE, shuffle=False, num_workers=NUM_WORKERS)\n",
    "\n",
    "len(train_loader), len(val_loader), len(test_loader)\n"
   ]
  },
  {
   "cell_type": "markdown",
   "id": "f0122229",
   "metadata": {},
   "source": [
    "\n",
    "## 6. Definición del modelo (Feed-Forward, >=2 capas ocultas con ReLU)\n"
   ]
  },
  {
   "cell_type": "code",
   "execution_count": 10,
   "id": "f46e7c25",
   "metadata": {},
   "outputs": [
    {
     "data": {
      "text/plain": [
       "FeedForwardRegressor(\n",
       "  (net): Sequential(\n",
       "    (0): Linear(in_features=17, out_features=128, bias=True)\n",
       "    (1): ReLU()\n",
       "    (2): Linear(in_features=128, out_features=64, bias=True)\n",
       "    (3): ReLU()\n",
       "    (4): Linear(in_features=64, out_features=1, bias=True)\n",
       "  )\n",
       ")"
      ]
     },
     "execution_count": 10,
     "metadata": {},
     "output_type": "execute_result"
    }
   ],
   "source": [
    "\n",
    "class FeedForwardRegressor(nn.Module):\n",
    "    def __init__(self, in_features: int, hidden1: int = 128, hidden2: int = 64):\n",
    "        super().__init__()\n",
    "        self.net = nn.Sequential(\n",
    "            nn.Linear(in_features, hidden1),\n",
    "            nn.ReLU(),\n",
    "            nn.Linear(hidden1, hidden2),\n",
    "            nn.ReLU(),\n",
    "            nn.Linear(hidden2, 1)  # salida 1 neurona (regresión)\n",
    "        )\n",
    "    def forward(self, x):\n",
    "        return self.net(x)\n",
    "\n",
    "in_features = X_train_tensor.shape[1]\n",
    "model = FeedForwardRegressor(in_features).to(DEVICE)\n",
    "model\n"
   ]
  },
  {
   "cell_type": "markdown",
   "id": "44871449",
   "metadata": {},
   "source": [
    "\n",
    "## 7. Función de pérdida (MSE) y optimizador (Adam con weight_decay)\n"
   ]
  },
  {
   "cell_type": "code",
   "execution_count": 11,
   "id": "4a4b1994",
   "metadata": {},
   "outputs": [],
   "source": [
    "\n",
    "loss_fn = nn.MSELoss()\n",
    "LEARNING_RATE = 1e-3\n",
    "WEIGHT_DECAY  = 1e-2  # 0.01\n",
    "optimizer = torch.optim.Adam(model.parameters(), lr=LEARNING_RATE, weight_decay=WEIGHT_DECAY)\n"
   ]
  },
  {
   "cell_type": "markdown",
   "id": "518311b0",
   "metadata": {},
   "source": [
    "\n",
    "## 8. Entrenamiento (100 épocas) y validación por época\n"
   ]
  },
  {
   "cell_type": "code",
   "execution_count": 12,
   "id": "e67ff698",
   "metadata": {},
   "outputs": [
    {
     "name": "stdout",
     "output_type": "stream",
     "text": [
      "Epoch   1/100 | train MSE: 411498796286.25 | val MSE: 410138782585.90\n",
      "Epoch  10/100 | train MSE: 57083257004.61 | val MSE: 63843949502.13\n",
      "Epoch  20/100 | train MSE: 38533027644.06 | val MSE: 43346496896.30\n",
      "Epoch  30/100 | train MSE: 32722268878.43 | val MSE: 37215705349.57\n",
      "Epoch  40/100 | train MSE: 31416747812.74 | val MSE: 35732357239.41\n",
      "Epoch  50/100 | train MSE: 30786554327.18 | val MSE: 34902004845.46\n",
      "Epoch  60/100 | train MSE: 30309729739.52 | val MSE: 34352928978.39\n",
      "Epoch  70/100 | train MSE: 29859767297.17 | val MSE: 33872828893.65\n",
      "Epoch  80/100 | train MSE: 29421038189.63 | val MSE: 33465667140.47\n",
      "Epoch  90/100 | train MSE: 29022300760.05 | val MSE: 33058117827.70\n",
      "Epoch 100/100 | train MSE: 28662290024.97 | val MSE: 32705808683.24\n"
     ]
    }
   ],
   "source": [
    "\n",
    "EPOCHS = 100\n",
    "\n",
    "train_losses = []\n",
    "val_losses = []\n",
    "\n",
    "for epoch in range(1, EPOCHS + 1):\n",
    "    # ---- Train ----\n",
    "    model.train()\n",
    "    running_train_loss = 0.0\n",
    "    for xb, yb in train_loader:\n",
    "        xb, yb = xb.to(DEVICE), yb.to(DEVICE)\n",
    "        optimizer.zero_grad()\n",
    "        preds = model(xb)\n",
    "        loss = loss_fn(preds, yb)\n",
    "        loss.backward()\n",
    "        optimizer.step()\n",
    "        running_train_loss += loss.item() * xb.size(0)\n",
    "    epoch_train_loss = running_train_loss / len(train_loader.dataset)\n",
    "    train_losses.append(epoch_train_loss)\n",
    "\n",
    "    # ---- Validation ----\n",
    "    model.eval()\n",
    "    running_val_loss = 0.0\n",
    "    with torch.inference_mode():\n",
    "        for xb, yb in val_loader:\n",
    "            xb, yb = xb.to(DEVICE), yb.to(DEVICE)\n",
    "            preds = model(xb)\n",
    "            loss = loss_fn(preds, yb)\n",
    "            running_val_loss += loss.item() * xb.size(0)\n",
    "    epoch_val_loss = running_val_loss / len(val_loader.dataset)\n",
    "    val_losses.append(epoch_val_loss)\n",
    "\n",
    "    if epoch % 10 == 0 or epoch == 1:\n",
    "        print(f\"Epoch {epoch:3d}/{EPOCHS} | train MSE: {epoch_train_loss:.2f} | val MSE: {epoch_val_loss:.2f}\")\n"
   ]
  },
  {
   "cell_type": "markdown",
   "id": "8cbcc8f3",
   "metadata": {},
   "source": [
    "\n",
    "## 9. Curvas de pérdida\n"
   ]
  },
  {
   "cell_type": "code",
   "execution_count": 13,
   "id": "fc58d57d",
   "metadata": {},
   "outputs": [
    {
     "data": {
      "image/png": "[encoded data removed]",
      "text/plain": [
       "<Figure size 800x500 with 1 Axes>"
      ]
     },
     "metadata": {},
     "output_type": "display_data"
    }
   ],
   "source": [
    "\n",
    "plt.figure(figsize=(8,5))\n",
    "plt.plot(range(1, EPOCHS+1), train_losses, label=\"Train MSE\")\n",
    "plt.plot(range(1, EPOCHS+1), val_losses, label=\"Val MSE\")\n",
    "plt.xlabel(\"Época\")\n",
    "plt.ylabel(\"MSE\")\n",
    "plt.title(\"Curvas de pérdida (MSE)\")\n",
    "plt.legend()\n",
    "plt.grid(True)\n",
    "plt.show()\n"
   ]
  },
  {
   "cell_type": "markdown",
   "id": "0b548d6d",
   "metadata": {},
   "source": [
    "\n",
    "## 10. Evaluación en el conjunto de prueba\n"
   ]
  },
  {
   "cell_type": "code",
   "execution_count": 14,
   "id": "112f0101",
   "metadata": {},
   "outputs": [
    {
     "name": "stdout",
     "output_type": "stream",
     "text": [
      "Test MSE final: 42170952978.87\n"
     ]
    }
   ],
   "source": [
    "\n",
    "model.eval()\n",
    "running_test_loss = 0.0\n",
    "with torch.inference_mode():\n",
    "    for xb, yb in test_loader:\n",
    "        xb, yb = xb.to(DEVICE), yb.to(DEVICE)\n",
    "        preds = model(xb)\n",
    "        loss = loss_fn(preds, yb)\n",
    "        running_test_loss += loss.item() * xb.size(0)\n",
    "\n",
    "test_mse = running_test_loss / len(test_loader.dataset)\n",
    "print(f\"Test MSE final: {test_mse:.2f}\")\n"
   ]
  },
  {
   "cell_type": "markdown",
   "id": "6a89295b",
   "metadata": {},
   "source": [
    "\n",
    "### Notas prácticas\n",
    "\n",
    "- Si tu entorno no soporta `num_workers=4`, cámbialo a `0` en la creación de los `DataLoader`.\n",
    "- Asegúrate de ajustar `DATA_PATH` a la **ruta absoluta** de tu archivo (p.ej., `'/workspace/dataset.csv'` en tu VS Code remoto). En este archivo ya está `'/mnt/data/dataset.csv'` para la ejecución aquí.\n",
    "- Puedes ajustar el tamaño de las capas, tasa de aprendizaje o `weight_decay` para explorar mejor rendimiento.\n"
   ]
  }
 ],
 "metadata": {
  "kernelspec": {
   "display_name": ".venv (3.12.5)",
   "language": "python",
   "name": "python3"
  },
  "language_info": {
   "codemirror_mode": {
    "name": "ipython",
    "version": 3
   },
   "file_extension": ".py",
   "mimetype": "text/x-python",
   "name": "python",
   "nbconvert_exporter": "python",
   "pygments_lexer": "ipython3",
   "version": "3.12.5"
  }
 },
 "nbformat": 4,
 "nbformat_minor": 5
}
