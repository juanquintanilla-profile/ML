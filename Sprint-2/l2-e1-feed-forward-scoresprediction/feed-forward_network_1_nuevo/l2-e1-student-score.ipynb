{
 "cells": [
  {
   "cell_type": "markdown",
   "id": "8ec04001",
   "metadata": {},
   "source": [
    "# Sprint 2 - Lab 2 - Entrenamiento 1"
   ]
  },
  {
   "cell_type": "markdown",
   "id": "4d799b8d",
   "metadata": {},
   "source": [
    "Este proyecto tiene como objetivo construir y entrenar una red neuronal feed-forward utilizando PyTorch para predecir las puntuaciones de los estudiantes en función de las horas de estudio, utilizando el 'Students Score Dataset'. Los participantes aplicarán técnicas de preprocesamiento de datos, entrenarán una red neuronal, y evaluarán el rendimiento del modelo utilizando métricas de regresión como R2, MAE, y RMSE.\n"
   ]
  },
  {
   "cell_type": "markdown",
   "id": "7ed5c6ab",
   "metadata": {},
   "source": [
    "## Preparación y preprocesamiento de los datos"
   ]
  },
  {
   "cell_type": "markdown",
   "id": "8302b3f8",
   "metadata": {},
   "source": [
    "El dataset student_scores.csv se carga correctamente. El código divide el dataset en un conjunto de entrenamiento y un conjunto de prueba (75%-25%) utilizando train_test_split de Scikit-learn, lo cual cumple con el requisito de preparar y particionar los datos."
   ]
  },
  {
   "cell_type": "code",
   "execution_count": 41,
   "id": "b8a8232f",
   "metadata": {},
   "outputs": [],
   "source": [
    "# Importar librerías necesarias\n",
    "import torch\n",
    "import torch.nn as nn\n",
    "import torch.optim as optim\n",
    "\n",
    "import pandas as pd\n",
    "import numpy as np\n",
    "\n",
    "from sklearn.model_selection import train_test_split\n",
    "from sklearn.metrics import r2_score, mean_absolute_error, mean_squared_error\n",
    "import matplotlib.pyplot as plt\n"
   ]
  },
  {
   "cell_type": "markdown",
   "id": "98e9d762",
   "metadata": {},
   "source": [
    "### 1. Cargar y explorar dataset"
   ]
  },
  {
   "cell_type": "code",
   "execution_count": 42,
   "id": "985b8804",
   "metadata": {},
   "outputs": [
    {
     "data": {
      "text/html": [
       "<div>\n",
       "<style scoped>\n",
       "    .dataframe tbody tr th:only-of-type {\n",
       "        vertical-align: middle;\n",
       "    }\n",
       "\n",
       "    .dataframe tbody tr th {\n",
       "        vertical-align: top;\n",
       "    }\n",
       "\n",
       "    .dataframe thead th {\n",
       "        text-align: right;\n",
       "    }\n",
       "</style>\n",
       "<table border=\"1\" class=\"dataframe\">\n",
       "  <thead>\n",
       "    <tr style=\"text-align: right;\">\n",
       "      <th></th>\n",
       "      <th>Hours</th>\n",
       "      <th>Scores</th>\n",
       "    </tr>\n",
       "  </thead>\n",
       "  <tbody>\n",
       "    <tr>\n",
       "      <th>2</th>\n",
       "      <td>3.2</td>\n",
       "      <td>27</td>\n",
       "    </tr>\n",
       "    <tr>\n",
       "      <th>22</th>\n",
       "      <td>3.8</td>\n",
       "      <td>35</td>\n",
       "    </tr>\n",
       "    <tr>\n",
       "      <th>3</th>\n",
       "      <td>8.5</td>\n",
       "      <td>75</td>\n",
       "    </tr>\n",
       "    <tr>\n",
       "      <th>6</th>\n",
       "      <td>9.2</td>\n",
       "      <td>88</td>\n",
       "    </tr>\n",
       "    <tr>\n",
       "      <th>8</th>\n",
       "      <td>8.3</td>\n",
       "      <td>81</td>\n",
       "    </tr>\n",
       "    <tr>\n",
       "      <th>9</th>\n",
       "      <td>2.7</td>\n",
       "      <td>25</td>\n",
       "    </tr>\n",
       "    <tr>\n",
       "      <th>23</th>\n",
       "      <td>6.9</td>\n",
       "      <td>76</td>\n",
       "    </tr>\n",
       "    <tr>\n",
       "      <th>20</th>\n",
       "      <td>2.7</td>\n",
       "      <td>30</td>\n",
       "    </tr>\n",
       "    <tr>\n",
       "      <th>21</th>\n",
       "      <td>4.8</td>\n",
       "      <td>54</td>\n",
       "    </tr>\n",
       "    <tr>\n",
       "      <th>4</th>\n",
       "      <td>3.5</td>\n",
       "      <td>30</td>\n",
       "    </tr>\n",
       "  </tbody>\n",
       "</table>\n",
       "</div>"
      ],
      "text/plain": [
       "    Hours  Scores\n",
       "2     3.2      27\n",
       "22    3.8      35\n",
       "3     8.5      75\n",
       "6     9.2      88\n",
       "8     8.3      81\n",
       "9     2.7      25\n",
       "23    6.9      76\n",
       "20    2.7      30\n",
       "21    4.8      54\n",
       "4     3.5      30"
      ]
     },
     "execution_count": 42,
     "metadata": {},
     "output_type": "execute_result"
    }
   ],
   "source": [
    "df = pd.read_csv('student_scores.csv')\n",
    "df.sample(10)\n"
   ]
  },
  {
   "cell_type": "code",
   "execution_count": 43,
   "id": "1edd08d1",
   "metadata": {},
   "outputs": [
    {
     "data": {
      "text/plain": [
       "(25, 2)"
      ]
     },
     "execution_count": 43,
     "metadata": {},
     "output_type": "execute_result"
    }
   ],
   "source": [
    "df.shape"
   ]
  },
  {
   "cell_type": "code",
   "execution_count": 44,
   "id": "9c7ccc0f",
   "metadata": {},
   "outputs": [
    {
     "data": {
      "text/html": [
       "<div>\n",
       "<style scoped>\n",
       "    .dataframe tbody tr th:only-of-type {\n",
       "        vertical-align: middle;\n",
       "    }\n",
       "\n",
       "    .dataframe tbody tr th {\n",
       "        vertical-align: top;\n",
       "    }\n",
       "\n",
       "    .dataframe thead th {\n",
       "        text-align: right;\n",
       "    }\n",
       "</style>\n",
       "<table border=\"1\" class=\"dataframe\">\n",
       "  <thead>\n",
       "    <tr style=\"text-align: right;\">\n",
       "      <th></th>\n",
       "      <th>Hours</th>\n",
       "      <th>Scores</th>\n",
       "    </tr>\n",
       "  </thead>\n",
       "  <tbody>\n",
       "    <tr>\n",
       "      <th>count</th>\n",
       "      <td>25.000000</td>\n",
       "      <td>25.000000</td>\n",
       "    </tr>\n",
       "    <tr>\n",
       "      <th>mean</th>\n",
       "      <td>5.012000</td>\n",
       "      <td>51.480000</td>\n",
       "    </tr>\n",
       "    <tr>\n",
       "      <th>std</th>\n",
       "      <td>2.525094</td>\n",
       "      <td>25.286887</td>\n",
       "    </tr>\n",
       "    <tr>\n",
       "      <th>min</th>\n",
       "      <td>1.100000</td>\n",
       "      <td>17.000000</td>\n",
       "    </tr>\n",
       "    <tr>\n",
       "      <th>25%</th>\n",
       "      <td>2.700000</td>\n",
       "      <td>30.000000</td>\n",
       "    </tr>\n",
       "    <tr>\n",
       "      <th>50%</th>\n",
       "      <td>4.800000</td>\n",
       "      <td>47.000000</td>\n",
       "    </tr>\n",
       "    <tr>\n",
       "      <th>75%</th>\n",
       "      <td>7.400000</td>\n",
       "      <td>75.000000</td>\n",
       "    </tr>\n",
       "    <tr>\n",
       "      <th>max</th>\n",
       "      <td>9.200000</td>\n",
       "      <td>95.000000</td>\n",
       "    </tr>\n",
       "  </tbody>\n",
       "</table>\n",
       "</div>"
      ],
      "text/plain": [
       "           Hours     Scores\n",
       "count  25.000000  25.000000\n",
       "mean    5.012000  51.480000\n",
       "std     2.525094  25.286887\n",
       "min     1.100000  17.000000\n",
       "25%     2.700000  30.000000\n",
       "50%     4.800000  47.000000\n",
       "75%     7.400000  75.000000\n",
       "max     9.200000  95.000000"
      ]
     },
     "execution_count": 44,
     "metadata": {},
     "output_type": "execute_result"
    }
   ],
   "source": [
    "df.describe()"
   ]
  },
  {
   "cell_type": "markdown",
   "id": "27f7a450",
   "metadata": {},
   "source": [
    "### 2. Preparar dataset para la regresión "
   ]
  },
  {
   "cell_type": "code",
   "execution_count": 45,
   "id": "0b71cf1b",
   "metadata": {},
   "outputs": [
    {
     "name": "stdout",
     "output_type": "stream",
     "text": [
      "Tamaño de entrenamiento: (18, 1) (18, 1)\n",
      "Tamaño de prueba: (7, 1) (7, 1)\n"
     ]
    }
   ],
   "source": [
    "X = df[['Hours']].values \n",
    "Y = df[['Scores']].values \n",
    "\n",
    "#Dividir en datos de entrenamiento y test\n",
    "\n",
    "X_train, X_test, y_train, y_test = train_test_split(\n",
    "    X,Y,test_size = 0.25, random_state=42\n",
    ")\n",
    "\n",
    "#Verificar tamaño subconjunto\n",
    "print(\"Tamaño de entrenamiento:\", X_train.shape, y_train.shape)\n",
    "print(\"Tamaño de prueba:\", X_test.shape, y_test.shape)"
   ]
  },
  {
   "cell_type": "markdown",
   "id": "9a10e89e",
   "metadata": {},
   "source": [
    "### 3. Construcción de la red Neuronal "
   ]
  },
  {
   "cell_type": "markdown",
   "id": "3d2b0053",
   "metadata": {},
   "source": [
    "Convertir vectores a tensores"
   ]
  },
  {
   "cell_type": "code",
   "execution_count": 46,
   "id": "9e77331a",
   "metadata": {},
   "outputs": [],
   "source": [
    "X_train_t = torch.tensor(X_train,dtype = torch.float32)\n",
    "X_test_t = torch.tensor(X_test, dtype =torch.float32)\n",
    "y_train_t = torch.tensor(y_train,dtype = torch.float32)\n",
    "y_test_t = torch.tensor(y_test, dtype =torch.float32)"
   ]
  },
  {
   "cell_type": "markdown",
   "id": "ca8100bf",
   "metadata": {},
   "source": [
    "Crear Red"
   ]
  },
  {
   "cell_type": "code",
   "execution_count": 47,
   "id": "f25acec0",
   "metadata": {},
   "outputs": [
    {
     "name": "stdout",
     "output_type": "stream",
     "text": [
      "2241 parámetros entrenables\n"
     ]
    }
   ],
   "source": [
    "class StudentScoreNN(nn.Module):\n",
    "    def __init__(self):\n",
    "        super(StudentScoreNN, self).__init__()\n",
    "\n",
    "        self.fc1 = nn.Linear(1,64)\n",
    "\n",
    "        self.fc2 = nn.Linear(64,32)\n",
    "\n",
    "        self.out = nn.Linear(32,1)\n",
    "\n",
    "        self.relu = nn.ReLU()\n",
    "\n",
    "    def forward(self,x):\n",
    "        x = self.relu(self.fc1(x))\n",
    "        x = self.relu(self.fc2(x))\n",
    "        x = self.out(x)\n",
    "        return x\n",
    "\n",
    "#instancia del modelo\n",
    "\n",
    "model = StudentScoreNN()\n",
    "\n",
    "# Verificar que tiene parámetros\n",
    "print(sum(p.numel() for p in model.parameters()), \"parámetros entrenables\")\n"
   ]
  },
  {
   "cell_type": "markdown",
   "id": "ef28bd87",
   "metadata": {},
   "source": [
    "### 4. Entrenamiento de la red neuronal"
   ]
  },
  {
   "cell_type": "code",
   "execution_count": 32,
   "id": "50be840d",
   "metadata": {},
   "outputs": [],
   "source": [
    "criterion = nn.MSELoss() #Definir función de pérdida\n",
    "optimizer = torch.optim.Adam(model.parameters(), lr=0.01)\n"
   ]
  },
  {
   "cell_type": "markdown",
   "id": "37f6324e",
   "metadata": {},
   "source": []
  },
  {
   "cell_type": "code",
   "execution_count": 48,
   "id": "dfd4f389",
   "metadata": {},
   "outputs": [
    {
     "name": "stdout",
     "output_type": "stream",
     "text": [
      "Epoch [20/200] - Loss: 3223.4783\n",
      "Epoch [40/200] - Loss: 3223.4783\n",
      "Epoch [60/200] - Loss: 3223.4783\n",
      "Epoch [80/200] - Loss: 3223.4783\n",
      "Epoch [100/200] - Loss: 3223.4783\n",
      "Epoch [120/200] - Loss: 3223.4783\n",
      "Epoch [140/200] - Loss: 3223.4783\n",
      "Epoch [160/200] - Loss: 3223.4783\n",
      "Epoch [180/200] - Loss: 3223.4783\n",
      "Epoch [200/200] - Loss: 3223.4783\n"
     ]
    }
   ],
   "source": [
    "epochs = 200\n",
    "losses = []\n",
    "\n",
    "for epoch in range(epochs):\n",
    "\n",
    "    y_pred = model(X_train_t)\n",
    "    loss = criterion(y_pred,y_train_t)\n",
    "\n",
    "    optimizer.zero_grad()\n",
    "\n",
    "    loss.backward()\n",
    "\n",
    "    optimizer.step()\n",
    "\n",
    "    losses.append(loss.item)\n",
    "\n",
    "    # Mostrar progreso cada 20 épocas\n",
    "    if (epoch+1) % 20 == 0:\n",
    "        print(f\"Epoch [{epoch+1}/{epochs}] - Loss: {loss.item():.4f}\")\n"
   ]
  },
  {
   "cell_type": "code",
   "execution_count": 53,
   "id": "89b3ba19",
   "metadata": {},
   "outputs": [
    {
     "name": "stdout",
     "output_type": "stream",
     "text": [
      "🔹 R² Score: -4.0856\n",
      "🔹 MAE:      46.6948\n",
      "🔹 RMSE:     51.7549\n"
     ]
    }
   ],
   "source": [
    "from sklearn.metrics import r2_score, mean_absolute_error, mean_squared_error\n",
    "import numpy as np\n",
    "\n",
    "# Desactivar gradientes (solo evaluación)\n",
    "model.eval()\n",
    "with torch.no_grad():\n",
    "    y_pred_test = model(X_test_t)\n",
    "\n",
    "# Convertir tensores a arrays de NumPy\n",
    "y_pred_np = y_pred_test.numpy()\n",
    "y_true_np = y_test_t.numpy()\n",
    "\n",
    "# Calcular métricas\n",
    "r2 = r2_score(y_true_np, y_pred_np)\n",
    "mae = mean_absolute_error(y_true_np, y_pred_np)\n",
    "rmse = np.sqrt(mean_squared_error(y_true_np, y_pred_np))\n",
    "\n",
    "print(f\"🔹 R² Score: {r2:.4f}\")\n",
    "print(f\"🔹 MAE:      {mae:.4f}\")\n",
    "print(f\"🔹 RMSE:     {rmse:.4f}\")\n"
   ]
  }
 ],
 "metadata": {
  "kernelspec": {
   "display_name": "DeepLearningEnv",
   "language": "python",
   "name": ".venv"
  },
  "language_info": {
   "codemirror_mode": {
    "name": "ipython",
    "version": 3
   },
   "file_extension": ".py",
   "mimetype": "text/x-python",
   "name": "python",
   "nbconvert_exporter": "python",
   "pygments_lexer": "ipython3",
   "version": "3.12.5"
  }
 },
 "nbformat": 4,
 "nbformat_minor": 5
}
