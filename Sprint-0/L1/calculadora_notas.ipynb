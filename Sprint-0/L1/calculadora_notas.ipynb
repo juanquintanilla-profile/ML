{
 "cells": [
  {
   "cell_type": "code",
   "execution_count": 1,
   "metadata": {},
   "outputs": [
    {
     "name": "stdout",
     "output_type": "stream",
     "text": [
      "Promedio de las notas: 7.25\n",
      "Nota más alta: 9\n",
      "Nota más baja: 5\n"
     ]
    }
   ],
   "source": [
    "# Definir las puntuaciones de 5 estudiantes en un examen (valores entre 1 y 100)\n",
    "puntuaciones = [85, 92, 78, 90, 88]\n",
    "\n",
    "# Función para calcular el promedio de las puntuaciones\n",
    "def calcular_promedio_puntuaciones(puntuaciones):\n",
    "    total = 0\n",
    "    cantidad_estudiantes = 0\n",
    "    for puntuacion in puntuaciones:\n",
    "        total += puntuacion  # Sumar cada puntuación\n",
    "        cantidad_estudiantes += 1  # Contar los estudiantes\n",
    "    \n",
    "    promedio = total / cantidad_estudiantes  # Calcular el promedio\n",
    "    return promedio\n",
    "\n",
    "# Función para encontrar la puntuación más alta\n",
    "def calcular_puntuacion_maxima(puntuaciones):\n",
    "    maxima = puntuaciones[0]  # Asumimos que la primera puntuación es la mayor\n",
    "    for puntuacion in puntuaciones:\n",
    "        if puntuacion > maxima:  # Si encontramos una puntuación mayor, actualizamos la variable\n",
    "            maxima = puntuacion\n",
    "    return maxima\n",
    "\n",
    "# Función para calcular el total de las puntuaciones\n",
    "def calcular_total_puntuaciones(puntuaciones):\n",
    "    total = 0\n",
    "    for puntuacion in puntuaciones:\n",
    "        total += puntuacion  # Sumar todas las puntuaciones\n",
    "    return total\n",
    "\n",
    "# Llamada a las funciones e impresión de resultados\n",
    "promedio = calcular_promedio_puntuaciones(puntuaciones)\n",
    "maxima = calcular_puntuacion_maxima(puntuaciones)\n",
    "total_puntos = calcular_total_puntuaciones(puntuaciones)\n",
    "\n",
    "# Imprimir los resultados\n",
    "print(f\"El promedio de las puntuaciones es: {promedio:.2f}\")\n",
    "print(f\"La puntuación más alta es: {maxima}\")\n",
    "print(f\"El total de puntos acumulados es: {total_puntos}\")\n"
   ]
  }
 ],
 "metadata": {
  "kernelspec": {
   "display_name": "Python 3",
   "language": "python",
   "name": "python3"
  },
  "language_info": {
   "codemirror_mode": {
    "name": "ipython",
    "version": 3
   },
   "file_extension": ".py",
   "mimetype": "text/x-python",
   "name": "python",
   "nbconvert_exporter": "python",
   "pygments_lexer": "ipython3",
   "version": "3.12.4"
  }
 },
 "nbformat": 4,
 "nbformat_minor": 2
}
