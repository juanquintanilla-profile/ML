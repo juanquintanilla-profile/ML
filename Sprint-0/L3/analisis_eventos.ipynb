{
 "cells": [
  {
   "cell_type": "code",
   "execution_count": 5,
   "metadata": {},
   "outputs": [
    {
     "name": "stdout",
     "output_type": "stream",
     "text": [
      "Evento con mayor asistencia: Evento 29\n",
      "Rango de edad más frecuente: 19-30\n",
      "Medio publicitario con mayor impacto: TV\n",
      "Ubicación con más aficionados: Ciudad A\n"
     ]
    }
   ],
   "source": [
    "# Importar las librerías necesarias\n",
    "import pandas as pd\n",
    "\n",
    "# Cargar los archivos CSV en DataFrames\n",
    "eventos = pd.read_csv('/workspace/eventos.csv')\n",
    "aficionados = pd.read_csv('/workspace/aficionados.csv')\n",
    "promociones = pd.read_csv('/workspace/promociones.csv')\n",
    "\n",
    "# 1. Limpieza de datos: eliminar filas con valores nulos\n",
    "eventos = eventos.dropna()\n",
    "aficionados = aficionados.dropna()\n",
    "promociones = promociones.dropna()\n",
    "\n",
    "# 2. Combinación de DataFrames usando 'id_evento' como clave, especificando 'validate' para muchos a muchos\n",
    "eventos_aficionados = pd.merge(eventos, aficionados, on='id_evento', how='inner', validate='many_to_many')\n",
    "datos_completos = pd.merge(eventos_aficionados, promociones, on='id_evento', how='inner', validate='many_to_many')\n",
    "\n",
    "# 3. Responder las preguntas de negocio\n",
    "\n",
    "# a. ¿Cuál es el evento con mayor asistencia total?\n",
    "asistencia_max = eventos['asistentes_totales'].max()  # Encontrar el valor máximo de asistentes\n",
    "evento_max_asistencia = eventos[eventos['asistentes_totales'] == asistencia_max]  # Filtrar el evento con mayor asistencia\n",
    "print(\"Evento con mayor asistencia:\", evento_max_asistencia['nombre_evento'].values[0])\n",
    "\n",
    "# b. ¿Qué rango de edad asiste más frecuentemente a los eventos?\n",
    "aficionados['rango_edad'] = pd.cut(aficionados['edad'], \n",
    "                                   bins=[0, 18, 30, 40, 50, 60, 100], \n",
    "                                   labels=['0-18', '19-30', '31-40', '41-50', '51-60', '60+'])\n",
    "# Utilizamos value_counts() y obtenemos el índice del máximo manualmente\n",
    "rango_edad_frecuente = aficionados['rango_edad'].value_counts().sort_values(ascending=False).index[0]\n",
    "print(\"Rango de edad más frecuente:\", rango_edad_frecuente)\n",
    "\n",
    "# c. ¿Qué medio publicitario ha generado mayor impacto en términos de asistencia?\n",
    "datos_completos['impacto_promocion'] = datos_completos['asistentes_totales'] / datos_completos['presupuesto']\n",
    "impacto_por_medio = datos_completos.groupby('medio_publicitario')['impacto_promocion'].mean()\n",
    "\n",
    "# Para encontrar el medio publicitario con mayor impacto\n",
    "impacto_max = impacto_por_medio.max()\n",
    "medio_publicitario_mayor_impacto = impacto_por_medio[impacto_por_medio == impacto_max].index[0]\n",
    "print(\"Medio publicitario con mayor impacto:\", medio_publicitario_mayor_impacto)\n",
    "\n",
    "# d. ¿Cuál es la ubicación de residencia que más aficionados aporta a los eventos?\n",
    "aficionados_por_ubicacion = aficionados.groupby('ubicación_residencia')['id_aficionado'].count()\n",
    "\n",
    "# Encontramos el valor máximo manualmente\n",
    "max_aficionados = aficionados_por_ubicacion.max()\n",
    "ubicacion_mas_aficionados = aficionados_por_ubicacion[aficionados_por_ubicacion == max_aficionados].index[0]\n",
    "print(\"Ubicación con más aficionados:\", ubicacion_mas_aficionados)\n",
    "\n",
    "# 4. Exportación del DataFrame final a CSV\n",
    "datos_completos.to_csv('/workspace/reporte_eventos.csv', index=False)\n"
   ]
  }
 ],
 "metadata": {
  "kernelspec": {
   "display_name": "Python 3",
   "language": "python",
   "name": "python3"
  },
  "language_info": {
   "codemirror_mode": {
    "name": "ipython",
    "version": 3
   },
   "file_extension": ".py",
   "mimetype": "text/x-python",
   "name": "python",
   "nbconvert_exporter": "python",
   "pygments_lexer": "ipython3",
   "version": "3.12.4"
  }
 },
 "nbformat": 4,
 "nbformat_minor": 2
}
