{
 "cells": [
  {
   "cell_type": "markdown",
   "id": "acbf60a3",
   "metadata": {},
   "source": [
    "# Demo rápida de algoritmos ML\n",
    "\n",
    "Genera y visualiza figuras para **KNN**, **Random Forest**, **Regresión logística** (clasificación) y **Regresión lineal** (regresión) usando datasets sintéticos."
   ]
  },
  {
   "cell_type": "code",
   "execution_count": null,
   "id": "bc694363",
   "metadata": {},
   "outputs": [],
   "source": [
    "import numpy as np, pandas as pd, matplotlib.pyplot as plt\n",
    "from sklearn.datasets import make_moons, make_regression\n",
    "from sklearn.model_selection import train_test_split\n",
    "from sklearn.preprocessing import StandardScaler\n",
    "from sklearn.pipeline import make_pipeline\n",
    "from sklearn.neighbors import KNeighborsClassifier\n",
    "from sklearn.ensemble import RandomForestClassifier\n",
    "from sklearn.linear_model import LogisticRegression, LinearRegression\n",
    "\n",
    "%matplotlib inline"
   ]
  },
  {
   "cell_type": "markdown",
   "id": "d2365340",
   "metadata": {},
   "source": [
    "## 1) Datasets sintéticos"
   ]
  },
  {
   "cell_type": "code",
   "execution_count": null,
   "id": "a8e244ce",
   "metadata": {},
   "outputs": [],
   "source": [
    "# Clasificación: dos lunas\n",
    "X, y = make_moons(n_samples=800, noise=0.25, random_state=7)\n",
    "\n",
    "# Regresión: lineal con ruido\n",
    "Xr, yr = make_regression(n_samples=300, n_features=1, noise=15.0, random_state=11)\n",
    "print(X.shape, y.shape, Xr.shape, yr.shape)"
   ]
  },
  {
   "cell_type": "markdown",
   "id": "03b3263a",
   "metadata": {},
   "source": [
    "## 2) Figuras de clasificación — fronteras de decisión"
   ]
  },
  {
   "cell_type": "code",
   "execution_count": null,
   "id": "58c7124d",
   "metadata": {},
   "outputs": [],
   "source": [
    "def plot_decision_boundary(clf, X, y, title):\n",
    "    x_min, x_max = X[:,0].min() - .5, X[:,0].max() + .5\n",
    "    y_min, y_max = X[:,1].min() - .5, X[:,1].max() + .5\n",
    "    xx, yy = np.meshgrid(np.linspace(x_min, x_max, 300),\n",
    "                         np.linspace(y_min, y_max, 300))\n",
    "    Z = clf.predict(np.c_[xx.ravel(), yy.ravel()])\n",
    "    Z = Z.reshape(xx.shape)\n",
    "    plt.figure(figsize=(6,4))\n",
    "    plt.contourf(xx, yy, Z, alpha=0.3)\n",
    "    plt.scatter(X[:,0], X[:,1], c=y, s=18, edgecolor='k')\n",
    "    plt.title(title); plt.xlabel('x1'); plt.ylabel('x2'); plt.tight_layout(); plt.show()\n",
    "\n",
    "Xtr, Xte, ytr, yte = train_test_split(X, y, test_size=0.25, random_state=7, stratify=y)\n",
    "\n",
    "# KNN\n",
    "knn = make_pipeline(StandardScaler(), KNeighborsClassifier(n_neighbors=15))\n",
    "knn.fit(Xtr, ytr)\n",
    "plot_decision_boundary(knn, X, y, 'KNN (k=15) — frontera de decisión')\n",
    "\n",
    "# Random Forest\n",
    "rf = RandomForestClassifier(n_estimators=150, random_state=7)\n",
    "rf.fit(Xtr, ytr)\n",
    "plot_decision_boundary(rf, X, y, 'Random Forest — frontera de decisión')\n",
    "\n",
    "# Regresión Logística\n",
    "logreg = make_pipeline(StandardScaler(), LogisticRegression())\n",
    "logreg.fit(Xtr, ytr)\n",
    "plot_decision_boundary(logreg, X, y, 'Regresión logística — frontera de decisión')"
   ]
  },
  {
   "cell_type": "markdown",
   "id": "fa288e21",
   "metadata": {},
   "source": [
    "## 3) Figura de regresión — línea de ajuste"
   ]
  },
  {
   "cell_type": "code",
   "execution_count": null,
   "id": "d18b6771",
   "metadata": {},
   "outputs": [],
   "source": [
    "lin = LinearRegression().fit(Xr, yr)\n",
    "x_line = np.linspace(Xr.min()-1, Xr.max()+1, 300).reshape(-1,1)\n",
    "y_line = lin.predict(x_line)\n",
    "plt.figure(figsize=(6,4))\n",
    "plt.scatter(Xr, yr, s=16, alpha=0.7, edgecolor='k')\n",
    "plt.plot(x_line, y_line)\n",
    "plt.title('Regresión lineal — ajuste y=β₀+β₁x')\n",
    "plt.xlabel('x'); plt.ylabel('y'); plt.tight_layout(); plt.show()"
   ]
  }
 ],
 "metadata": {
  "kernelspec": {
   "display_name": "Python 3",
   "name": "python3"
  }
 },
 "nbformat": 4,
 "nbformat_minor": 5
}
